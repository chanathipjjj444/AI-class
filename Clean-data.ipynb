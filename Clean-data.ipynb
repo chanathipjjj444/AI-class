{
 "cells": [
  {
   "cell_type": "code",
   "execution_count": 94,
   "id": "18ef8ddb",
   "metadata": {},
   "outputs": [],
   "source": [
    "import pandas as pd\n",
    "import matplotlib.pyplot as plt\n",
    "import numpy as np"
   ]
  },
  {
   "cell_type": "code",
   "execution_count": 95,
   "id": "2b31241c",
   "metadata": {},
   "outputs": [
    {
     "data": {
      "text/html": [
       "<div>\n",
       "<style scoped>\n",
       "    .dataframe tbody tr th:only-of-type {\n",
       "        vertical-align: middle;\n",
       "    }\n",
       "\n",
       "    .dataframe tbody tr th {\n",
       "        vertical-align: top;\n",
       "    }\n",
       "\n",
       "    .dataframe thead th {\n",
       "        text-align: right;\n",
       "    }\n",
       "</style>\n",
       "<table border=\"1\" class=\"dataframe\">\n",
       "  <thead>\n",
       "    <tr style=\"text-align: right;\">\n",
       "      <th></th>\n",
       "      <th>story</th>\n",
       "      <th>sentiment</th>\n",
       "    </tr>\n",
       "  </thead>\n",
       "  <tbody>\n",
       "    <tr>\n",
       "      <th>0</th>\n",
       "      <td>นายสุริยะจึงรุ่งเรืองกิจ รัฐมนตรีว่าการกระทรวง...</td>\n",
       "      <td>positive</td>\n",
       "    </tr>\n",
       "    <tr>\n",
       "      <th>1</th>\n",
       "      <td>สวยงามยิ่งนัก กับเพชรเม็ดงามที่หายากยิ่ง \"บลูไ...</td>\n",
       "      <td>positive</td>\n",
       "    </tr>\n",
       "    <tr>\n",
       "      <th>2</th>\n",
       "      <td>โดยระหว่างวันดัชนีทำจุดสูงสุดที่ 1,417.16 จุด ...</td>\n",
       "      <td>positive</td>\n",
       "    </tr>\n",
       "    <tr>\n",
       "      <th>3</th>\n",
       "      <td>## ประเทศไทยนำเข้าปุ๋ยปีละกว่าแสนล้านบาท ซึ่งห...</td>\n",
       "      <td>positive</td>\n",
       "    </tr>\n",
       "    <tr>\n",
       "      <th>4</th>\n",
       "      <td>\"เจเอเอส แอสเซ็ท (J)\" โชว์กำไร Q3/66 ทะยาน 617...</td>\n",
       "      <td>positive</td>\n",
       "    </tr>\n",
       "    <tr>\n",
       "      <th>...</th>\n",
       "      <td>...</td>\n",
       "      <td>...</td>\n",
       "    </tr>\n",
       "    <tr>\n",
       "      <th>26995</th>\n",
       "      <td>แชร์ :\\n\\n  \\n  \\n  \\n  \\n\\n\\nคุณวิภาวรรณ มหาด...</td>\n",
       "      <td>neutral</td>\n",
       "    </tr>\n",
       "    <tr>\n",
       "      <th>26996</th>\n",
       "      <td>นายธนวัฒน์ กิตติสุวรรณ ผู้ช่วยผู้จัดการใหญ่ ผู...</td>\n",
       "      <td>neutral</td>\n",
       "    </tr>\n",
       "    <tr>\n",
       "      <th>26997</th>\n",
       "      <td>Advertisement\\n\\n  \\n\\n\\nมติ 'ก้าวไกล' ขับ 'ไช...</td>\n",
       "      <td>neutral</td>\n",
       "    </tr>\n",
       "    <tr>\n",
       "      <th>26998</th>\n",
       "      <td>วันที่ 7 พฤศจิกายน 2566 เวลา 09.00 น.  นายไพโร...</td>\n",
       "      <td>neutral</td>\n",
       "    </tr>\n",
       "    <tr>\n",
       "      <th>26999</th>\n",
       "      <td>แชร์ :\\n\\n  \\n  \\n  \\n  \\n\\n\\nเมื่อลมหนาวพัดผ่...</td>\n",
       "      <td>neutral</td>\n",
       "    </tr>\n",
       "  </tbody>\n",
       "</table>\n",
       "<p>26001 rows × 2 columns</p>\n",
       "</div>"
      ],
      "text/plain": [
       "                                                   story sentiment\n",
       "0      นายสุริยะจึงรุ่งเรืองกิจ รัฐมนตรีว่าการกระทรวง...  positive\n",
       "1      สวยงามยิ่งนัก กับเพชรเม็ดงามที่หายากยิ่ง \"บลูไ...  positive\n",
       "2      โดยระหว่างวันดัชนีทำจุดสูงสุดที่ 1,417.16 จุด ...  positive\n",
       "3      ## ประเทศไทยนำเข้าปุ๋ยปีละกว่าแสนล้านบาท ซึ่งห...  positive\n",
       "4      \"เจเอเอส แอสเซ็ท (J)\" โชว์กำไร Q3/66 ทะยาน 617...  positive\n",
       "...                                                  ...       ...\n",
       "26995  แชร์ :\\n\\n  \\n  \\n  \\n  \\n\\n\\nคุณวิภาวรรณ มหาด...   neutral\n",
       "26996  นายธนวัฒน์ กิตติสุวรรณ ผู้ช่วยผู้จัดการใหญ่ ผู...   neutral\n",
       "26997  Advertisement\\n\\n  \\n\\n\\nมติ 'ก้าวไกล' ขับ 'ไช...   neutral\n",
       "26998  วันที่ 7 พฤศจิกายน 2566 เวลา 09.00 น.  นายไพโร...   neutral\n",
       "26999  แชร์ :\\n\\n  \\n  \\n  \\n  \\n\\n\\nเมื่อลมหนาวพัดผ่...   neutral\n",
       "\n",
       "[26001 rows x 2 columns]"
      ]
     },
     "execution_count": 95,
     "metadata": {},
     "output_type": "execute_result"
    }
   ],
   "source": [
    "df = pd.read_json(\"thai_sentiment_dataset.json\")\n",
    "df = df.drop_duplicates()\n",
    "df"
   ]
  },
  {
   "cell_type": "code",
   "execution_count": 96,
   "id": "15686a1b",
   "metadata": {},
   "outputs": [
    {
     "data": {
      "text/plain": [
       "'สวยงามยิ่งนัก กับเพชรเม็ดงามที่หายากยิ่ง \"บลูไดมอนด์\"\\n\\n  \\n\\n\\nล่าสุดวันนี้ (8 พ.ย.66) สำนักงานประมูลคริสตี้ ในนครเจนีวา ประเทศสวิตเซอร์แลนด์ ได้นำเพชรบลูไดมอนด์ หรือ เพชรสีน้ำเงินเม็ดใหญ่ หายาก น้ำหนัก 17.6 กะรัต ออกมาประมูล โดยประมูลขายไปเมื่อวันอังคารที่ 7 พ.ย.66 ด้วยมูลค่ากว่า 44 ล้านดอลลาร์สหรัฐ หรือประมาณ  1.5 พันล้านบาท ซึ่งสูงกว่าที่คาดการณ์ไว้มาก\\n\\n  \\n\\n\\nสำหรับเพชรบลูไดมอนด์เม็ดนี้ เป็นที่รู้จักในชื่อ \"บลู รอยัล\" ประดับอยู่บนตัวเรือนแหวน เป็นหนึ่งในเพชรสีน้ำเงินหายากที่สุดเท่าที่เคยขุดพบ ซึ่งสิ่งที่ทำให้บลู รอยัล เป็นเพชรที่หายากและพิเศษก็คือขนาด และน้ำหนัก 17.6 กะรัต นับเป็นขนาดใหญ่ที่สุดในอัญมณีประเภทเดียวกัน ทั้งยังมีสีเข้มมากตามธรรมชาติ\\n\\n  \\n\\n\\nขอบคุรภาพและข้อมูลจาก :  https://www.ctvnews.ca/business/blue-diamond-sells-for-more-than-us-44-million-at-christie-s-auction-in-geneva-1.6635036\\n\\n  \\n\\n\\nคลิปอีจันแนะนำ\\n\\n  \\n\\n\\nไขปริศนา คดีเพชรซาอุ EP.2 บลูไดมอนด์ อยู่ที่ไหน ?'"
      ]
     },
     "execution_count": 96,
     "metadata": {},
     "output_type": "execute_result"
    }
   ],
   "source": [
    "df[\"story\"][1]"
   ]
  },
  {
   "cell_type": "code",
   "execution_count": 100,
   "id": "14553187",
   "metadata": {},
   "outputs": [
    {
     "data": {
      "text/html": [
       "<div>\n",
       "<style scoped>\n",
       "    .dataframe tbody tr th:only-of-type {\n",
       "        vertical-align: middle;\n",
       "    }\n",
       "\n",
       "    .dataframe tbody tr th {\n",
       "        vertical-align: top;\n",
       "    }\n",
       "\n",
       "    .dataframe thead th {\n",
       "        text-align: right;\n",
       "    }\n",
       "</style>\n",
       "<table border=\"1\" class=\"dataframe\">\n",
       "  <thead>\n",
       "    <tr style=\"text-align: right;\">\n",
       "      <th></th>\n",
       "      <th>story</th>\n",
       "      <th>sentiment</th>\n",
       "    </tr>\n",
       "  </thead>\n",
       "  <tbody>\n",
       "    <tr>\n",
       "      <th>0</th>\n",
       "      <td>นายสุริยะจึงรุ่งเรืองกิจรัฐมนตรีว่าการกระทรวงค...</td>\n",
       "      <td></td>\n",
       "    </tr>\n",
       "    <tr>\n",
       "      <th>1</th>\n",
       "      <td>สวยงามยิ่งนักกับเพชรเม็ดงามที่หายากยิ่งบลูไดมอ...</td>\n",
       "      <td></td>\n",
       "    </tr>\n",
       "    <tr>\n",
       "      <th>2</th>\n",
       "      <td>โดยระหว่างวันดัชนีทำจุดสูงสุดที่จุดและทำจุดต่ำ...</td>\n",
       "      <td></td>\n",
       "    </tr>\n",
       "    <tr>\n",
       "      <th>3</th>\n",
       "      <td>ประเทศไทยนำเข้าปุ๋ยปีละกว่าแสนล้านบาทซึ่งหากผล...</td>\n",
       "      <td></td>\n",
       "    </tr>\n",
       "    <tr>\n",
       "      <th>4</th>\n",
       "      <td>เจเอเอสแอสเซ็ทโชว์กำไรทะยาน%จากโครงการพัฒนาศูน...</td>\n",
       "      <td></td>\n",
       "    </tr>\n",
       "    <tr>\n",
       "      <th>...</th>\n",
       "      <td>...</td>\n",
       "      <td>...</td>\n",
       "    </tr>\n",
       "    <tr>\n",
       "      <th>26995</th>\n",
       "      <td>แชร์คุณวิภาวรรณมหาดำรงค์กุลกรรมการผู้จัดการบริ...</td>\n",
       "      <td></td>\n",
       "    </tr>\n",
       "    <tr>\n",
       "      <th>26996</th>\n",
       "      <td>นายธนวัฒน์กิตติสุวรรณผู้ช่วยผู้จัดการใหญ่ผู้บร...</td>\n",
       "      <td></td>\n",
       "    </tr>\n",
       "    <tr>\n",
       "      <th>26997</th>\n",
       "      <td>มติก้าวไกลขับไชยามพวานพ้นพรรคหลังไม่ปฏิบัติตาม...</td>\n",
       "      <td></td>\n",
       "    </tr>\n",
       "    <tr>\n",
       "      <th>26998</th>\n",
       "      <td>วันที่พฤศจิกายนเวลานนายไพโรจน์โชติกเสถียรปลัดก...</td>\n",
       "      <td></td>\n",
       "    </tr>\n",
       "    <tr>\n",
       "      <th>26999</th>\n",
       "      <td>แชร์เมื่อลมหนาวพัดผ่านมาก็ได้เวลาปรับเปลี่ยนสไ...</td>\n",
       "      <td></td>\n",
       "    </tr>\n",
       "  </tbody>\n",
       "</table>\n",
       "<p>26001 rows × 2 columns</p>\n",
       "</div>"
      ],
      "text/plain": [
       "                                                   story sentiment\n",
       "0      นายสุริยะจึงรุ่งเรืองกิจรัฐมนตรีว่าการกระทรวงค...          \n",
       "1      สวยงามยิ่งนักกับเพชรเม็ดงามที่หายากยิ่งบลูไดมอ...          \n",
       "2      โดยระหว่างวันดัชนีทำจุดสูงสุดที่จุดและทำจุดต่ำ...          \n",
       "3      ประเทศไทยนำเข้าปุ๋ยปีละกว่าแสนล้านบาทซึ่งหากผล...          \n",
       "4      เจเอเอสแอสเซ็ทโชว์กำไรทะยาน%จากโครงการพัฒนาศูน...          \n",
       "...                                                  ...       ...\n",
       "26995  แชร์คุณวิภาวรรณมหาดำรงค์กุลกรรมการผู้จัดการบริ...          \n",
       "26996  นายธนวัฒน์กิตติสุวรรณผู้ช่วยผู้จัดการใหญ่ผู้บร...          \n",
       "26997  มติก้าวไกลขับไชยามพวานพ้นพรรคหลังไม่ปฏิบัติตาม...          \n",
       "26998  วันที่พฤศจิกายนเวลานนายไพโรจน์โชติกเสถียรปลัดก...          \n",
       "26999  แชร์เมื่อลมหนาวพัดผ่านมาก็ได้เวลาปรับเปลี่ยนสไ...          \n",
       "\n",
       "[26001 rows x 2 columns]"
      ]
     },
     "execution_count": 100,
     "metadata": {},
     "output_type": "execute_result"
    }
   ],
   "source": [
    "df[\"story\"][1]\n",
    "df = df.replace(\"[a-z]*[A-Z]*\", \"\", regex =True)\n",
    "df = df.replace('[\"\\n)(\"]*[\"://-=.?]*', \"\", regex = True)\n",
    "df = df.replace(\"[' - # ,]*\", \"\", regex=True)\n",
    "df"
   ]
  },
  {
   "cell_type": "code",
   "execution_count": 67,
   "id": "e029279c",
   "metadata": {},
   "outputs": [
    {
     "name": "stdout",
     "output_type": "stream",
     "text": [
      "\n"
     ]
    }
   ],
   "source": [
    " for idx,row in df.iterrows():\n",
    "    if idx < 1:\n",
    "        print(row[\"sentiment\"])"
   ]
  },
  {
   "cell_type": "code",
   "execution_count": 8,
   "id": "9207b75f",
   "metadata": {},
   "outputs": [
    {
     "name": "stdout",
     "output_type": "stream",
     "text": [
      "Pandas version 2.0.3\n",
      "<class 'pandas.core.frame.DataFrame'>\n",
      "Index: 26001 entries, 0 to 26999\n",
      "Data columns (total 2 columns):\n",
      " #   Column     Non-Null Count  Dtype \n",
      "---  ------     --------------  ----- \n",
      " 0   story      26001 non-null  object\n",
      " 1   sentiment  26001 non-null  object\n",
      "dtypes: object(2)\n",
      "memory usage: 609.4+ KB\n"
     ]
    }
   ],
   "source": [
    "print (\"Pandas version\",pd.__version__)\n",
    "df.info()"
   ]
  },
  {
   "cell_type": "code",
   "execution_count": 19,
   "id": "7e7f6c74",
   "metadata": {},
   "outputs": [
    {
     "ename": "KeyError",
     "evalue": "88",
     "output_type": "error",
     "traceback": [
      "\u001b[0;31m---------------------------------------------------------------------------\u001b[0m",
      "\u001b[0;31mKeyError\u001b[0m                                  Traceback (most recent call last)",
      "File \u001b[0;32m~/anaconda3/lib/python3.11/site-packages/pandas/core/indexes/base.py:3653\u001b[0m, in \u001b[0;36mIndex.get_loc\u001b[0;34m(self, key)\u001b[0m\n\u001b[1;32m   3652\u001b[0m \u001b[38;5;28;01mtry\u001b[39;00m:\n\u001b[0;32m-> 3653\u001b[0m     \u001b[38;5;28;01mreturn\u001b[39;00m \u001b[38;5;28mself\u001b[39m\u001b[38;5;241m.\u001b[39m_engine\u001b[38;5;241m.\u001b[39mget_loc(casted_key)\n\u001b[1;32m   3654\u001b[0m \u001b[38;5;28;01mexcept\u001b[39;00m \u001b[38;5;167;01mKeyError\u001b[39;00m \u001b[38;5;28;01mas\u001b[39;00m err:\n",
      "File \u001b[0;32m~/anaconda3/lib/python3.11/site-packages/pandas/_libs/index.pyx:147\u001b[0m, in \u001b[0;36mpandas._libs.index.IndexEngine.get_loc\u001b[0;34m()\u001b[0m\n",
      "File \u001b[0;32m~/anaconda3/lib/python3.11/site-packages/pandas/_libs/index.pyx:176\u001b[0m, in \u001b[0;36mpandas._libs.index.IndexEngine.get_loc\u001b[0;34m()\u001b[0m\n",
      "File \u001b[0;32mpandas/_libs/hashtable_class_helper.pxi:2606\u001b[0m, in \u001b[0;36mpandas._libs.hashtable.Int64HashTable.get_item\u001b[0;34m()\u001b[0m\n",
      "File \u001b[0;32mpandas/_libs/hashtable_class_helper.pxi:2630\u001b[0m, in \u001b[0;36mpandas._libs.hashtable.Int64HashTable.get_item\u001b[0;34m()\u001b[0m\n",
      "\u001b[0;31mKeyError\u001b[0m: 88",
      "\nThe above exception was the direct cause of the following exception:\n",
      "\u001b[0;31mKeyError\u001b[0m                                  Traceback (most recent call last)",
      "Cell \u001b[0;32mIn[19], line 9\u001b[0m\n\u001b[1;32m      6\u001b[0m         re\u001b[38;5;241m.\u001b[39msub(\u001b[38;5;124mr\u001b[39m\u001b[38;5;124m'\u001b[39m\u001b[38;5;124m[/n\u001b[39m\u001b[38;5;124m\\\u001b[39m\u001b[38;5;124m\"\u001b[39m\u001b[38;5;124m#\u001b[39m\u001b[38;5;124m\"\u001b[39m\u001b[38;5;124m]\u001b[39m\u001b[38;5;124m'\u001b[39m, \u001b[38;5;124m\"\u001b[39m\u001b[38;5;124m\"\u001b[39m, df[\u001b[38;5;124m\"\u001b[39m\u001b[38;5;124mstory\u001b[39m\u001b[38;5;124m\"\u001b[39m][i])\n\u001b[1;32m      7\u001b[0m         re\u001b[38;5;241m.\u001b[39msub(\u001b[38;5;124mr\u001b[39m\u001b[38;5;124m\"\u001b[39m\u001b[38;5;124m[^\u001b[39m\u001b[38;5;124m\\\u001b[39m\u001b[38;5;124mu0E00-\u001b[39m\u001b[38;5;124m\\\u001b[39m\u001b[38;5;124mu0E7F\u001b[39m\u001b[38;5;124m\\\u001b[39m\u001b[38;5;124ms]\u001b[39m\u001b[38;5;124m\"\u001b[39m, \u001b[38;5;124m\"\u001b[39m\u001b[38;5;124m\"\u001b[39m, df[\u001b[38;5;124m\"\u001b[39m\u001b[38;5;124mstory\u001b[39m\u001b[38;5;124m\"\u001b[39m][i])\n\u001b[0;32m----> 9\u001b[0m clean_non_thai(df)\n",
      "Cell \u001b[0;32mIn[19], line 6\u001b[0m, in \u001b[0;36mclean_non_thai\u001b[0;34m(df)\u001b[0m\n\u001b[1;32m      4\u001b[0m \u001b[38;5;28;01mdef\u001b[39;00m \u001b[38;5;21mclean_non_thai\u001b[39m(df):\n\u001b[1;32m      5\u001b[0m     \u001b[38;5;28;01mfor\u001b[39;00m i \u001b[38;5;129;01min\u001b[39;00m \u001b[38;5;28mrange\u001b[39m(\u001b[38;5;28mlen\u001b[39m(df[\u001b[38;5;124m\"\u001b[39m\u001b[38;5;124mstory\u001b[39m\u001b[38;5;124m\"\u001b[39m])):\n\u001b[0;32m----> 6\u001b[0m         re\u001b[38;5;241m.\u001b[39msub(\u001b[38;5;124mr\u001b[39m\u001b[38;5;124m'\u001b[39m\u001b[38;5;124m[/n\u001b[39m\u001b[38;5;124m\\\u001b[39m\u001b[38;5;124m\"\u001b[39m\u001b[38;5;124m#\u001b[39m\u001b[38;5;124m\"\u001b[39m\u001b[38;5;124m]\u001b[39m\u001b[38;5;124m'\u001b[39m, \u001b[38;5;124m\"\u001b[39m\u001b[38;5;124m\"\u001b[39m, df[\u001b[38;5;124m\"\u001b[39m\u001b[38;5;124mstory\u001b[39m\u001b[38;5;124m\"\u001b[39m][i])\n\u001b[1;32m      7\u001b[0m         re\u001b[38;5;241m.\u001b[39msub(\u001b[38;5;124mr\u001b[39m\u001b[38;5;124m\"\u001b[39m\u001b[38;5;124m[^\u001b[39m\u001b[38;5;124m\\\u001b[39m\u001b[38;5;124mu0E00-\u001b[39m\u001b[38;5;124m\\\u001b[39m\u001b[38;5;124mu0E7F\u001b[39m\u001b[38;5;124m\\\u001b[39m\u001b[38;5;124ms]\u001b[39m\u001b[38;5;124m\"\u001b[39m, \u001b[38;5;124m\"\u001b[39m\u001b[38;5;124m\"\u001b[39m, df[\u001b[38;5;124m\"\u001b[39m\u001b[38;5;124mstory\u001b[39m\u001b[38;5;124m\"\u001b[39m][i])\n",
      "File \u001b[0;32m~/anaconda3/lib/python3.11/site-packages/pandas/core/series.py:1007\u001b[0m, in \u001b[0;36mSeries.__getitem__\u001b[0;34m(self, key)\u001b[0m\n\u001b[1;32m   1004\u001b[0m     \u001b[38;5;28;01mreturn\u001b[39;00m \u001b[38;5;28mself\u001b[39m\u001b[38;5;241m.\u001b[39m_values[key]\n\u001b[1;32m   1006\u001b[0m \u001b[38;5;28;01melif\u001b[39;00m key_is_scalar:\n\u001b[0;32m-> 1007\u001b[0m     \u001b[38;5;28;01mreturn\u001b[39;00m \u001b[38;5;28mself\u001b[39m\u001b[38;5;241m.\u001b[39m_get_value(key)\n\u001b[1;32m   1009\u001b[0m \u001b[38;5;28;01mif\u001b[39;00m is_hashable(key):\n\u001b[1;32m   1010\u001b[0m     \u001b[38;5;66;03m# Otherwise index.get_value will raise InvalidIndexError\u001b[39;00m\n\u001b[1;32m   1011\u001b[0m     \u001b[38;5;28;01mtry\u001b[39;00m:\n\u001b[1;32m   1012\u001b[0m         \u001b[38;5;66;03m# For labels that don't resolve as scalars like tuples and frozensets\u001b[39;00m\n",
      "File \u001b[0;32m~/anaconda3/lib/python3.11/site-packages/pandas/core/series.py:1116\u001b[0m, in \u001b[0;36mSeries._get_value\u001b[0;34m(self, label, takeable)\u001b[0m\n\u001b[1;32m   1113\u001b[0m     \u001b[38;5;28;01mreturn\u001b[39;00m \u001b[38;5;28mself\u001b[39m\u001b[38;5;241m.\u001b[39m_values[label]\n\u001b[1;32m   1115\u001b[0m \u001b[38;5;66;03m# Similar to Index.get_value, but we do not fall back to positional\u001b[39;00m\n\u001b[0;32m-> 1116\u001b[0m loc \u001b[38;5;241m=\u001b[39m \u001b[38;5;28mself\u001b[39m\u001b[38;5;241m.\u001b[39mindex\u001b[38;5;241m.\u001b[39mget_loc(label)\n\u001b[1;32m   1118\u001b[0m \u001b[38;5;28;01mif\u001b[39;00m is_integer(loc):\n\u001b[1;32m   1119\u001b[0m     \u001b[38;5;28;01mreturn\u001b[39;00m \u001b[38;5;28mself\u001b[39m\u001b[38;5;241m.\u001b[39m_values[loc]\n",
      "File \u001b[0;32m~/anaconda3/lib/python3.11/site-packages/pandas/core/indexes/base.py:3655\u001b[0m, in \u001b[0;36mIndex.get_loc\u001b[0;34m(self, key)\u001b[0m\n\u001b[1;32m   3653\u001b[0m     \u001b[38;5;28;01mreturn\u001b[39;00m \u001b[38;5;28mself\u001b[39m\u001b[38;5;241m.\u001b[39m_engine\u001b[38;5;241m.\u001b[39mget_loc(casted_key)\n\u001b[1;32m   3654\u001b[0m \u001b[38;5;28;01mexcept\u001b[39;00m \u001b[38;5;167;01mKeyError\u001b[39;00m \u001b[38;5;28;01mas\u001b[39;00m err:\n\u001b[0;32m-> 3655\u001b[0m     \u001b[38;5;28;01mraise\u001b[39;00m \u001b[38;5;167;01mKeyError\u001b[39;00m(key) \u001b[38;5;28;01mfrom\u001b[39;00m \u001b[38;5;21;01merr\u001b[39;00m\n\u001b[1;32m   3656\u001b[0m \u001b[38;5;28;01mexcept\u001b[39;00m \u001b[38;5;167;01mTypeError\u001b[39;00m:\n\u001b[1;32m   3657\u001b[0m     \u001b[38;5;66;03m# If we have a listlike key, _check_indexing_error will raise\u001b[39;00m\n\u001b[1;32m   3658\u001b[0m     \u001b[38;5;66;03m#  InvalidIndexError. Otherwise we fall through and re-raise\u001b[39;00m\n\u001b[1;32m   3659\u001b[0m     \u001b[38;5;66;03m#  the TypeError.\u001b[39;00m\n\u001b[1;32m   3660\u001b[0m     \u001b[38;5;28mself\u001b[39m\u001b[38;5;241m.\u001b[39m_check_indexing_error(key)\n",
      "\u001b[0;31mKeyError\u001b[0m: 88"
     ]
    }
   ],
   "source": [
    "#clean data \n",
    "import re \n",
    "\n",
    "def clean_non_thai(df):\n",
    "    for i in range(len(df[\"story\"])):\n",
    "        re.sub(r'[/n\\\"#\"]', \"\", df[\"story\"][i])\n",
    "        re.sub(r\"[^\\u0E00-\\u0E7F\\s]\", \"\", df[\"story\"][i])\n",
    "\n",
    "clean_non_thai(df)"
   ]
  },
  {
   "cell_type": "code",
   "execution_count": null,
   "id": "a03345cb",
   "metadata": {},
   "outputs": [],
   "source": []
  }
 ],
 "metadata": {
  "kernelspec": {
   "display_name": "Python 3 (ipykernel)",
   "language": "python",
   "name": "python3"
  },
  "language_info": {
   "codemirror_mode": {
    "name": "ipython",
    "version": 3
   },
   "file_extension": ".py",
   "mimetype": "text/x-python",
   "name": "python",
   "nbconvert_exporter": "python",
   "pygments_lexer": "ipython3",
   "version": "3.11.5"
  }
 },
 "nbformat": 4,
 "nbformat_minor": 5
}
