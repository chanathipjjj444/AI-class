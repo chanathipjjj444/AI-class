{
 "cells": [
  {
   "cell_type": "code",
   "execution_count": 94,
   "id": "18ef8ddb",
   "metadata": {},
   "outputs": [],
   "source": [
    "import pandas as pd\n",
    "import matplotlib.pyplot as plt\n",
    "import numpy as np"
   ]
  },
  {
   "cell_type": "code",
   "execution_count": 95,
   "id": "2b31241c",
   "metadata": {},
   "outputs": [
    {
     "data": {
      "text/html": [
       "<div>\n",
       "<style scoped>\n",
       "    .dataframe tbody tr th:only-of-type {\n",
       "        vertical-align: middle;\n",
       "    }\n",
       "\n",
       "    .dataframe tbody tr th {\n",
       "        vertical-align: top;\n",
       "    }\n",
       "\n",
       "    .dataframe thead th {\n",
       "        text-align: right;\n",
       "    }\n",
       "</style>\n",
       "<table border=\"1\" class=\"dataframe\">\n",
       "  <thead>\n",
       "    <tr style=\"text-align: right;\">\n",
       "      <th></th>\n",
       "      <th>story</th>\n",
       "      <th>sentiment</th>\n",
       "    </tr>\n",
       "  </thead>\n",
       "  <tbody>\n",
       "    <tr>\n",
       "      <th>0</th>\n",
       "      <td>นายสุริยะจึงรุ่งเรืองกิจ รัฐมนตรีว่าการกระทรวง...</td>\n",
       "      <td>positive</td>\n",
       "    </tr>\n",
       "    <tr>\n",
       "      <th>1</th>\n",
       "      <td>สวยงามยิ่งนัก กับเพชรเม็ดงามที่หายากยิ่ง \"บลูไ...</td>\n",
       "      <td>positive</td>\n",
       "    </tr>\n",
       "    <tr>\n",
       "      <th>2</th>\n",
       "      <td>โดยระหว่างวันดัชนีทำจุดสูงสุดที่ 1,417.16 จุด ...</td>\n",
       "      <td>positive</td>\n",
       "    </tr>\n",
       "    <tr>\n",
       "      <th>3</th>\n",
       "      <td>## ประเทศไทยนำเข้าปุ๋ยปีละกว่าแสนล้านบาท ซึ่งห...</td>\n",
       "      <td>positive</td>\n",
       "    </tr>\n",
       "    <tr>\n",
       "      <th>4</th>\n",
       "      <td>\"เจเอเอส แอสเซ็ท (J)\" โชว์กำไร Q3/66 ทะยาน 617...</td>\n",
       "      <td>positive</td>\n",
       "    </tr>\n",
       "    <tr>\n",
       "      <th>...</th>\n",
       "      <td>...</td>\n",
       "      <td>...</td>\n",
       "    </tr>\n",
       "    <tr>\n",
       "      <th>26995</th>\n",
       "      <td>แชร์ :\\n\\n  \\n  \\n  \\n  \\n\\n\\nคุณวิภาวรรณ มหาด...</td>\n",
       "      <td>neutral</td>\n",
       "    </tr>\n",
       "    <tr>\n",
       "      <th>26996</th>\n",
       "      <td>นายธนวัฒน์ กิตติสุวรรณ ผู้ช่วยผู้จัดการใหญ่ ผู...</td>\n",
       "      <td>neutral</td>\n",
       "    </tr>\n",
       "    <tr>\n",
       "      <th>26997</th>\n",
       "      <td>Advertisement\\n\\n  \\n\\n\\nมติ 'ก้าวไกล' ขับ 'ไช...</td>\n",
       "      <td>neutral</td>\n",
       "    </tr>\n",
       "    <tr>\n",
       "      <th>26998</th>\n",
       "      <td>วันที่ 7 พฤศจิกายน 2566 เวลา 09.00 น.  นายไพโร...</td>\n",
       "      <td>neutral</td>\n",
       "    </tr>\n",
       "    <tr>\n",
       "      <th>26999</th>\n",
       "      <td>แชร์ :\\n\\n  \\n  \\n  \\n  \\n\\n\\nเมื่อลมหนาวพัดผ่...</td>\n",
       "      <td>neutral</td>\n",
       "    </tr>\n",
       "  </tbody>\n",
       "</table>\n",
       "<p>26001 rows × 2 columns</p>\n",
       "</div>"
      ],
      "text/plain": [
       "                                                   story sentiment\n",
       "0      นายสุริยะจึงรุ่งเรืองกิจ รัฐมนตรีว่าการกระทรวง...  positive\n",
       "1      สวยงามยิ่งนัก กับเพชรเม็ดงามที่หายากยิ่ง \"บลูไ...  positive\n",
       "2      โดยระหว่างวันดัชนีทำจุดสูงสุดที่ 1,417.16 จุด ...  positive\n",
       "3      ## ประเทศไทยนำเข้าปุ๋ยปีละกว่าแสนล้านบาท ซึ่งห...  positive\n",
       "4      \"เจเอเอส แอสเซ็ท (J)\" โชว์กำไร Q3/66 ทะยาน 617...  positive\n",
       "...                                                  ...       ...\n",
       "26995  แชร์ :\\n\\n  \\n  \\n  \\n  \\n\\n\\nคุณวิภาวรรณ มหาด...   neutral\n",
       "26996  นายธนวัฒน์ กิตติสุวรรณ ผู้ช่วยผู้จัดการใหญ่ ผู...   neutral\n",
       "26997  Advertisement\\n\\n  \\n\\n\\nมติ 'ก้าวไกล' ขับ 'ไช...   neutral\n",
       "26998  วันที่ 7 พฤศจิกายน 2566 เวลา 09.00 น.  นายไพโร...   neutral\n",
       "26999  แชร์ :\\n\\n  \\n  \\n  \\n  \\n\\n\\nเมื่อลมหนาวพัดผ่...   neutral\n",
       "\n",
       "[26001 rows x 2 columns]"
      ]
     },
     "execution_count": 95,
     "metadata": {},
     "output_type": "execute_result"
    }
   ],
   "source": [
    "df = pd.read_json(\"thai_sentiment_dataset.json\")\n",
    "df = df.drop_duplicates()\n",
    "df"
   ]
  },
  {
   "cell_type": "code",
   "execution_count": 96,
   "id": "15686a1b",
   "metadata": {},
   "outputs": [
    {
     "data": {
      "text/plain": [
       "'สวยงามยิ่งนัก กับเพชรเม็ดงามที่หายากยิ่ง \"บลูไดมอนด์\"\\n\\n  \\n\\n\\nล่าสุดวันนี้ (8 พ.ย.66) สำนักงานประมูลคริสตี้ ในนครเจนีวา ประเทศสวิตเซอร์แลนด์ ได้นำเพชรบลูไดมอนด์ หรือ เพชรสีน้ำเงินเม็ดใหญ่ หายาก น้ำหนัก 17.6 กะรัต ออกมาประมูล โดยประมูลขายไปเมื่อวันอังคารที่ 7 พ.ย.66 ด้วยมูลค่ากว่า 44 ล้านดอลลาร์สหรัฐ หรือประมาณ  1.5 พันล้านบาท ซึ่งสูงกว่าที่คาดการณ์ไว้มาก\\n\\n  \\n\\n\\nสำหรับเพชรบลูไดมอนด์เม็ดนี้ เป็นที่รู้จักในชื่อ \"บลู รอยัล\" ประดับอยู่บนตัวเรือนแหวน เป็นหนึ่งในเพชรสีน้ำเงินหายากที่สุดเท่าที่เคยขุดพบ ซึ่งสิ่งที่ทำให้บลู รอยัล เป็นเพชรที่หายากและพิเศษก็คือขนาด และน้ำหนัก 17.6 กะรัต นับเป็นขนาดใหญ่ที่สุดในอัญมณีประเภทเดียวกัน ทั้งยังมีสีเข้มมากตามธรรมชาติ\\n\\n  \\n\\n\\nขอบคุรภาพและข้อมูลจาก :  https://www.ctvnews.ca/business/blue-diamond-sells-for-more-than-us-44-million-at-christie-s-auction-in-geneva-1.6635036\\n\\n  \\n\\n\\nคลิปอีจันแนะนำ\\n\\n  \\n\\n\\nไขปริศนา คดีเพชรซาอุ EP.2 บลูไดมอนด์ อยู่ที่ไหน ?'"
      ]
     },
     "execution_count": 96,
     "metadata": {},
     "output_type": "execute_result"
    }
   ],
   "source": [
    "df[\"story\"][1]"
   ]
  },
  {
   "cell_type": "code",
   "execution_count": 100,
   "id": "14553187",
   "metadata": {},
   "outputs": [
    {
     "data": {
      "text/html": [
       "<div>\n",
       "<style scoped>\n",
       "    .dataframe tbody tr th:only-of-type {\n",
       "        vertical-align: middle;\n",
       "    }\n",
       "\n",
       "    .dataframe tbody tr th {\n",
       "        vertical-align: top;\n",
       "    }\n",
       "\n",
       "    .dataframe thead th {\n",
       "        text-align: right;\n",
       "    }\n",
       "</style>\n",
       "<table border=\"1\" class=\"dataframe\">\n",
       "  <thead>\n",
       "    <tr style=\"text-align: right;\">\n",
       "      <th></th>\n",
       "      <th>story</th>\n",
       "      <th>sentiment</th>\n",
       "    </tr>\n",
       "  </thead>\n",
       "  <tbody>\n",
       "    <tr>\n",
       "      <th>0</th>\n",
       "      <td>นายสุริยะจึงรุ่งเรืองกิจรัฐมนตรีว่าการกระทรวงค...</td>\n",
       "      <td></td>\n",
       "    </tr>\n",
       "    <tr>\n",
       "      <th>1</th>\n",
       "      <td>สวยงามยิ่งนักกับเพชรเม็ดงามที่หายากยิ่งบลูไดมอ...</td>\n",
       "      <td></td>\n",
       "    </tr>\n",
       "    <tr>\n",
       "      <th>2</th>\n",
       "      <td>โดยระหว่างวันดัชนีทำจุดสูงสุดที่จุดและทำจุดต่ำ...</td>\n",
       "      <td></td>\n",
       "    </tr>\n",
       "    <tr>\n",
       "      <th>3</th>\n",
       "      <td>ประเทศไทยนำเข้าปุ๋ยปีละกว่าแสนล้านบาทซึ่งหากผล...</td>\n",
       "      <td></td>\n",
       "    </tr>\n",
       "    <tr>\n",
       "      <th>4</th>\n",
       "      <td>เจเอเอสแอสเซ็ทโชว์กำไรทะยาน%จากโครงการพัฒนาศูน...</td>\n",
       "      <td></td>\n",
       "    </tr>\n",
       "    <tr>\n",
       "      <th>...</th>\n",
       "      <td>...</td>\n",
       "      <td>...</td>\n",
       "    </tr>\n",
       "    <tr>\n",
       "      <th>26995</th>\n",
       "      <td>แชร์คุณวิภาวรรณมหาดำรงค์กุลกรรมการผู้จัดการบริ...</td>\n",
       "      <td></td>\n",
       "    </tr>\n",
       "    <tr>\n",
       "      <th>26996</th>\n",
       "      <td>นายธนวัฒน์กิตติสุวรรณผู้ช่วยผู้จัดการใหญ่ผู้บร...</td>\n",
       "      <td></td>\n",
       "    </tr>\n",
       "    <tr>\n",
       "      <th>26997</th>\n",
       "      <td>มติก้าวไกลขับไชยามพวานพ้นพรรคหลังไม่ปฏิบัติตาม...</td>\n",
       "      <td></td>\n",
       "    </tr>\n",
       "    <tr>\n",
       "      <th>26998</th>\n",
       "      <td>วันที่พฤศจิกายนเวลานนายไพโรจน์โชติกเสถียรปลัดก...</td>\n",
       "      <td></td>\n",
       "    </tr>\n",
       "    <tr>\n",
       "      <th>26999</th>\n",
       "      <td>แชร์เมื่อลมหนาวพัดผ่านมาก็ได้เวลาปรับเปลี่ยนสไ...</td>\n",
       "      <td></td>\n",
       "    </tr>\n",
       "  </tbody>\n",
       "</table>\n",
       "<p>26001 rows × 2 columns</p>\n",
       "</div>"
      ],
      "text/plain": [
       "                                                   story sentiment\n",
       "0      นายสุริยะจึงรุ่งเรืองกิจรัฐมนตรีว่าการกระทรวงค...          \n",
       "1      สวยงามยิ่งนักกับเพชรเม็ดงามที่หายากยิ่งบลูไดมอ...          \n",
       "2      โดยระหว่างวันดัชนีทำจุดสูงสุดที่จุดและทำจุดต่ำ...          \n",
       "3      ประเทศไทยนำเข้าปุ๋ยปีละกว่าแสนล้านบาทซึ่งหากผล...          \n",
       "4      เจเอเอสแอสเซ็ทโชว์กำไรทะยาน%จากโครงการพัฒนาศูน...          \n",
       "...                                                  ...       ...\n",
       "26995  แชร์คุณวิภาวรรณมหาดำรงค์กุลกรรมการผู้จัดการบริ...          \n",
       "26996  นายธนวัฒน์กิตติสุวรรณผู้ช่วยผู้จัดการใหญ่ผู้บร...          \n",
       "26997  มติก้าวไกลขับไชยามพวานพ้นพรรคหลังไม่ปฏิบัติตาม...          \n",
       "26998  วันที่พฤศจิกายนเวลานนายไพโรจน์โชติกเสถียรปลัดก...          \n",
       "26999  แชร์เมื่อลมหนาวพัดผ่านมาก็ได้เวลาปรับเปลี่ยนสไ...          \n",
       "\n",
       "[26001 rows x 2 columns]"
      ]
     },
     "execution_count": 100,
     "metadata": {},
     "output_type": "execute_result"
    }
   ],
   "source": [
    "#clean data\n",
    "df[\"story\"][1]\n",
    "df = df.replace(\"[a-z]*[A-Z]*\", \"\", regex =True)\n",
    "df = df.replace('[\"\\n)(\"]*[\"://-=.?]*', \"\", regex = True)\n",
    "df = df.replace(\"[' - # ,]*\", \"\", regex=True)\n",
    "df"
   ]
  },
  {
   "cell_type": "code",
   "execution_count": 67,
   "id": "e029279c",
   "metadata": {},
   "outputs": [
    {
     "name": "stdout",
     "output_type": "stream",
     "text": [
      "\n"
     ]
    }
   ],
   "source": [
    " for idx,row in df.iterrows():\n",
    "    if idx < 1:\n",
    "        print(row[\"sentiment\"])"
   ]
  },
  {
   "cell_type": "code",
   "execution_count": 8,
   "id": "9207b75f",
   "metadata": {},
   "outputs": [
    {
     "name": "stdout",
     "output_type": "stream",
     "text": [
      "Pandas version 2.0.3\n",
      "<class 'pandas.core.frame.DataFrame'>\n",
      "Index: 26001 entries, 0 to 26999\n",
      "Data columns (total 2 columns):\n",
      " #   Column     Non-Null Count  Dtype \n",
      "---  ------     --------------  ----- \n",
      " 0   story      26001 non-null  object\n",
      " 1   sentiment  26001 non-null  object\n",
      "dtypes: object(2)\n",
      "memory usage: 609.4+ KB\n"
     ]
    }
   ],
   "source": [
    "print (\"Pandas version\",pd.__version__)\n",
    "df.info()"
   ]
  },
  {
   "cell_type": "code",
   "execution_count": null,
   "id": "a03345cb",
   "metadata": {},
   "outputs": [],
   "source": []
  }
 ],
 "metadata": {
  "kernelspec": {
   "display_name": "Python 3 (ipykernel)",
   "language": "python",
   "name": "python3"
  },
  "language_info": {
   "codemirror_mode": {
    "name": "ipython",
    "version": 3
   },
   "file_extension": ".py",
   "mimetype": "text/x-python",
   "name": "python",
   "nbconvert_exporter": "python",
   "pygments_lexer": "ipython3",
   "version": "3.11.5"
  }
 },
 "nbformat": 4,
 "nbformat_minor": 5
}
